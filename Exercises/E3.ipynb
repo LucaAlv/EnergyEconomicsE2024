{
 "cells": [
  {
   "cell_type": "code",
   "execution_count": 1,
   "id": "d36051f5-553b-4d36-86b4-a56ff41325fe",
   "metadata": {
    "tags": []
   },
   "outputs": [],
   "source": [
    "%run stdPackages.ipynb"
   ]
  },
  {
   "cell_type": "markdown",
   "id": "b814ffb9-05f7-4166-a61c-52bdf1dde3e9",
   "metadata": {
    "tags": []
   },
   "source": [
    "# A Basic Model of the Electricity System"
   ]
  },
  {
   "cell_type": "markdown",
   "id": "aade51e1-61b5-47f6-8600-1bd8f204e418",
   "metadata": {},
   "source": [
    "In this exercise, we'll consider a basic model of the electricity system. In **Q1**, we solve a very simple model using pen and paper methods. In **Q2** we implement a simple numerical version of this, setting up the appropriate structure to solve it using the ```scipy.optimize.linprog``` method."
   ]
  },
  {
   "cell_type": "markdown",
   "id": "91c67b53-9466-4dbf-9b6e-44b52f2f5d45",
   "metadata": {
    "tags": []
   },
   "source": [
    "## Q1. Characterize Model"
   ]
  },
  {
   "cell_type": "markdown",
   "id": "22484def-a435-4d74-afd7-6b6e6d15f737",
   "metadata": {},
   "source": [
    "Consider a stylized, static model of the electricity wholesale market where a portfolio of different dispatchable generators (indexed by $i$) competes to serve a fixed load $L$ MWh. Let $E_i$ denote the generated electricity by generator $i$ measured in MWh and $q_i$ the installed hourly generating capacity in MW. The generators use a combination of primary energy carriers (indexed by $j$) and an aggregate of other inputs ($oth$). Let $\\mu_j^i$ denote the input share of energy carrier $j$ for generator $i$ -- i.e. MWh input of energy carrier $j$ per MWh electricity output. Let $p_j^f$ denote the price of carrier $j$ measured in €/MWh. The use of primary carriers ($j$) is tied to \\CO2 emissions in fixed ratios."
   ]
  },
  {
   "cell_type": "markdown",
   "id": "9fb07b33-552f-42cf-b75c-2a6db911305c",
   "metadata": {},
   "source": [
    "### **Q1.1: Briefly explain the optimization problem in equations (1).**\n",
    "$\\begin{align}\n",
    "    \\min \\ \\sum_i& c_i E_i \\tag{1a} \\\\\n",
    "    \\text{subject to }L&=\\sum_i E_i \\tag{1b} \\\\ \n",
    "    c_i &= c_i^{oth}+\\sum_j\\mu_j^i p_j^f, \\qquad \\forall i \\tag{1c}\\\\ \n",
    "    E_i &\\in[0, q_i], \\qquad \\forall i. \\tag{1d}\n",
    "\\end{align}$"
   ]
  },
  {
   "cell_type": "markdown",
   "id": "d4bbc376",
   "metadata": {},
   "source": [
    "(1a): Electricity production cost minimization problem\n",
    "\n",
    "(1b): Constraint representing the requirement that the production of electricity should exactly match the demand of electricity.\n",
    "\n",
    "(1c): Variable costs for each energy plant i, consisting of the costs of aggregate of other inputs (c_i^{oth}) and the sum of costs associated with the production of one MWh of electricity by plant i with energy carrier j\n",
    "\n",
    "(1d): Constraint representing the requirement of electricity production from any plant to be feasible, ensuring non-negativity and production within the respective plant's capacity."
   ]
  },
  {
   "cell_type": "markdown",
   "id": "7b4996db-0080-4d77-a19d-edabbbf2fcdf",
   "metadata": {},
   "source": [
    "### **Q1.2:**\n",
    "\n",
    "*Let $\\phi_j$ denote the emission intensity of energy carrier $j$ measured in ton CO2/MWh. Assume that we have an estimate of the social cost of carbon of $p_{CO2}$ €/ton CO2.*\n",
    "\n",
    "\n",
    "*Briefly explain the problem in equations (2). What does the new parameter $v_i$ measure?*\n",
    "\\begin{align}\n",
    "    \\min \\ \\sum_i& \\left(c_i+v_i\\cdot p_{CO2}\\right) E_i \\tag{2a}\\\\\n",
    "    \\text{subject to }L&=\\sum_i E_i \\tag{2b} \\\\ \n",
    "    v_i &= \\sum_j\\mu_j^i\\phi_j \\tag{2c} \\\\\n",
    "    E_i &\\in[0, q_i], \\qquad \\forall i. \\tag{2d}\n",
    "\\end{align}"
   ]
  },
  {
   "cell_type": "markdown",
   "id": "f6ff75a7",
   "metadata": {},
   "source": [
    "(2a): Electricity production cost minimization problem. Costs now consist of marginal production costs and costs originating from the CO2 externality.\n",
    "\n",
    "(2b): Constraint representing the requirement that the production of electricity should exactly match the demand of electricity.\n",
    "\n",
    "(2c): CO2 emissions per MWh of production in tonnes of CO2 for each plant i using energy carrier j.\n",
    "\n",
    "(2d): Constraint representing the requirement of electricity production from any plant to be feasible, ensuring non-negativity and production within the respective plants capacity."
   ]
  },
  {
   "cell_type": "markdown",
   "id": "75363d27-cda6-4255-a606-c75a9d1559d7",
   "metadata": {},
   "source": [
    "### **Q1.3**\n",
    "*Derive the first order conditions for the problem in (2b). Give a brief interpretation.*"
   ]
  },
  {
   "cell_type": "markdown",
   "id": "04a936bb",
   "metadata": {},
   "source": [
    "\\begin{equation}\n",
    "    \\mathbf{L} = - \\sum_i (c_i + v_i \\cdot p_{CO2}) E_i + \\lambda ( \\sum_i E_i - L) + \\sum_i \\bar{\\theta_i} (q_i - E_i) + \\sum_i \\underline{\\theta_i} \\cdot E_i \\tag{3}\n",
    "\\end{equation}\n",
    "\n",
    "The first order conditions for the problem in (2b) are derived through the maximisation of (3) and given as:\n",
    "\n",
    "\\begin{align}\n",
    "    \\frac{\\delta \\mathbf{L}}{\\delta E_i} &= - ( c_i + v_i \\cdot P_{CO2} ) + \\lambda - \\bar{\\theta_i} + \\underline{\\theta_i} = 0 \\tag{3a} \\\\\n",
    "\n",
    "    \\bar{\\theta_i} ( q_i - E_i ) &= 0; \\qquad \\bar{\\theta_i} \\geq 0; \\qquad q_i - E_i \\geq 0 \\tag{3b} \\\\\n",
    "    \n",
    "    \\underline{\\theta_i} E_i &= 0; \\qquad \\underline{\\theta_i} \\geq 0; \\qquad E_i \\geq 0 \\tag{3c}\n",
    "\\end{align}\n",
    "\n",
    "And can be interpreted as follows: \n",
    "\n",
    "(3a) represents the requirement of $E_i$ being a local optimum. \n",
    "\n",
    "(3b) determines the feasible values of the first shadow variable $\\bar{\\theta_i}$, which can be interpreted as the savings in equilibrium from a unit-increase in the production cap $q_i$ of plant $i$. \n",
    "\n",
    "(3c) determines the feasible values of the second shadow variable $\\underline{\\theta_i}$, which can be interpreted as the required equilibrium price increase in order to merit the start of usage of power from plant $i$.\n"
   ]
  },
  {
   "cell_type": "markdown",
   "id": "6e744890-7f6c-4704-a5f3-8b13a3459449",
   "metadata": {},
   "source": [
    "### **Q1.4. Merit order curve and solution**"
   ]
  },
  {
   "cell_type": "markdown",
   "id": "c775bf22-de84-4e0a-b3ad-38bb067e0a06",
   "metadata": {},
   "source": [
    "The file *PS3\\_Q1_tables.xlsx* includes a small dataset with three generators. Tables 1-2 translates the names used in the data to the symbols used in the model above. \n",
    "\n",
    "| **Table 1: Symbols Dictionary** | |\n",
    "| --- | --- |\n",
    "| *Name in excel data* | *Model Symbol* |\n",
    "| FuelMix | $\\mu_j^i$ |\n",
    "| EmissionIntensity | $\\phi_j$ |\n",
    "|FuelPrice | $p_j^f$ |\n",
    "| EmissionTax | $p_{CO2}$ |\n",
    "| Load | $L$ |\n",
    "| GeneratingCapacity | $q_i$ |\n",
    "| OtherMC | $c_i^{oth}$ |\n",
    "\n",
    "| **Table 2: Index Dictionary** | |\n",
    "| --- | --- |\n",
    "| *Name in excel data* | *Model Index* |\n",
    "| BFt | $j$ |\n",
    "| id | $i$ |"
   ]
  },
  {
   "cell_type": "markdown",
   "id": "f6819bb7-73c4-4bf9-8f1c-bb459c37dc28",
   "metadata": {},
   "source": [
    "*The following uses the package ```pyDbs``` to load and arrange the data in a simple key,value like database. It has a few methods that reads in symbols from excel and add them as pandas series with the appropriate pandas indices. This is what we use here to read in the data:*"
   ]
  },
  {
   "cell_type": "code",
   "execution_count": 2,
   "id": "bf07cbcb-5d2c-4a1b-9fa8-18baf4113310",
   "metadata": {
    "tags": []
   },
   "outputs": [],
   "source": [
    "import pyDbs\n",
    "db = pyDbs.read.dbFromWB(os.path.join(d['data'], 'PS3_Q1.xlsx'),\n",
    "                        {'variables': ['Fundamentals','Load','Generator'],\n",
    "                         'variable2D': ['FuelMix'],\n",
    "                         'maps': ['GeneratorCategories']})\n",
    "pyDbs.readSets(db) # this method adds indices from the declared symbols to the database."
   ]
  },
  {
   "cell_type": "markdown",
   "id": "75dd94a4-cf50-401a-ab03-2f329e0b4aa4",
   "metadata": {},
   "source": [
    "*This database stores symbols in ```self.symbols```; you can get the symbols using simple 'slicing' syntax, e.g. the index for plants:*"
   ]
  },
  {
   "cell_type": "markdown",
   "id": "7992c1a1",
   "metadata": {},
   "source": [
    "*Based on this small dataset, draw the merit-order curve and compute the solution for $E_i$ and $\\lambda$.*"
   ]
  },
  {
   "cell_type": "code",
   "execution_count": 69,
   "id": "84a98700",
   "metadata": {},
   "outputs": [
    {
     "data": {
      "image/png": "[encoded data removed]",
      "text/plain": [
       "<Figure size 800x550 with 1 Axes>"
      ]
     },
     "metadata": {},
     "output_type": "display_data"
    }
   ],
   "source": [
    "# Compute total marginal costs for each plant with and without emission taxes respectively\n",
    "db ['TotalNC'] = db['OtherMC'] + (db['FuelMix'] * db['FuelPrice']).groupby(level='id').sum()\n",
    "db ['SocialMC'] = db['TotalMC'] + db['EmissionTax']['CO2'] * (db['FuelMix'] * db['EmissionIntensity']).groupby(level='id').sum()\n",
    "\n",
    "# Generate the plot for the case without emission taxes\n",
    "sortedidx = db['TotalMC'].sort_values().index # Sort the id index according to cheapest plant\n",
    "maxcaps = db['GeneratingCapacity'][sortedidx].cumsum() # Determine cumulative maximum capacity\n",
    "mincaps = maxcaps - db['GeneratingCapacity'] [sortedidx] # Determine cumulative minimum capacity\n",
    "fig, ax = plt.subplots (1,1)\n",
    "\n",
    "# Add horizontal lines for each generator in order of marginal cost\n",
    "ax. hlines (db['TotalMC'][sortedidx], mincaps, maxcaps, colors=['green', 'black', 'grey'])\n",
    "# Add vertical lines that connect horizontal lines for each generator\n",
    "ax.vlines(maxcaps [: -1], db['TotalMC'][sortedidx][: -1], db['TotalMC'][sortedidx][1:], colors=['green', 'black'])\n",
    "# Add horizontal line for load\n",
    "ax.vlines(db['Load'], 0, round(max(db['TotalMC']) + 10), color= 'red')\n",
    "# Add axis names\n",
    "ax.set_xlabel('Generation (E)')\n",
    "ax.set_ylabel('Marginal cost (c)')\n",
    "plt.show(fig);"
   ]
  },
  {
   "cell_type": "code",
   "execution_count": 123,
   "id": "1ec41801-414a-40d5-9e48-454492c7bb2a",
   "metadata": {
    "tags": []
   },
   "outputs": [
    {
     "data": {
      "image/png": "[encoded data removed]",
      "text/plain": [
       "<Figure size 800x550 with 1 Axes>"
      ]
     },
     "metadata": {},
     "output_type": "display_data"
    }
   ],
   "source": [
    "# marginal costs ci (per MWh of energy generated) without regulation\n",
    "db['MC'] = db['OtherMC'] + (db['FuelMix']*db['FuelPrice']).groupby(level='id').sum()\n",
    "\n",
    "# amount of pollution per MWh of energy generated for each plant, i.e. marginal emissions\n",
    "db['ME'] = (db['FuelMix']*db['EmissionIntensity']).groupby(level='id').sum()\n",
    "\n",
    "# total marginal costs (per MWh of energy generated) without regulation\n",
    "db['TotalMC'] = db['MC']\n",
    "\n",
    "# sort by cost\n",
    "TotalMC_sorted = db['TotalMC'].sort_values().index\n",
    "\n",
    "# total marginal social costs (per MWh of energy generated)\n",
    "db['SocialMC'] = db['MC'] + (db['ME']*db['EmissionTax']['CO2'])\n",
    "\n",
    "# Generating values for x axis\n",
    "mwh = pd.Index(np.arange(0, db['GeneratingCapacity']['A'] + db['GeneratingCapacity']['B'] + db['GeneratingCapacity']['C']))\n",
    "# Extracting the values for y axis (note the +1 in the definition of smc_C is to )\n",
    "smc_A = pd.Series([db['SocialMC']['A']]*db['GeneratingCapacity']['A'])\n",
    "smc_B = pd.Series([db['SocialMC']['B']]*db['GeneratingCapacity']['B'])\n",
    "smc_C = pd.Series([db['SocialMC']['C']]*(db['GeneratingCapacity']['C']))\n",
    "# Putting x and y axis together in a dataFrame\n",
    "mo_df = pd.concat([smc_C, smc_A, smc_B])\n",
    "mo_df.index = mwh\n",
    "\n",
    "# Generating the merit order curve for the case with taxation\n",
    "mo_df.plot()\n",
    "plt.axvline(db['Load']['Consumer 1'], 0, round(max(db['TotalMC'])+10), color='red')\n",
    "plt.xlabel('Generation (E) [MWh]')\n",
    "plt.ylabel('Cost/MWh')\n",
    "plt.title('Merit order curve with three plants and fixed load')\n",
    "plt.grid(True)\n",
    "plt.show()\n",
    "\n",
    "## solution for optimal production for each plant (E_i) and shadow price of the equilibrium constraint\n",
    "\n",
    "# since plant A is the second cheapest plant and plant A + plant C (which is the cheapest plant) have a combined production capacity of 120 (60 each) increasing the load by one marginal unit will increase the system costs by exactly the costs of producing one more unit of energy with plant A.\n",
    "λ = db['TotalMC']['A']\n",
    "\n",
    "# MC of plant C < λ -> E_C = q_C\n",
    "E_C = db['GeneratingCapacity']['C']\n",
    "\n",
    "# MC of plant A = λ -> E_A = L - q_C\n",
    "E_A = db['Load']['Consumer 1'] - db['GeneratingCapacity']['C']\n",
    "\n",
    "# MC of plant B > λ -> E_B = 0\n",
    "E_B = 0"
   ]
  },
  {
   "cell_type": "markdown",
   "id": "0c1c7d68-6883-4655-976a-07eb45e6a235",
   "metadata": {},
   "source": [
    "### **Q1.5. A Cap on Emissions**"
   ]
  },
  {
   "cell_type": "markdown",
   "id": "67c0ec07-bdb5-4358-ba0e-ba9f32f7ccc8",
   "metadata": {},
   "source": [
    "Assume that, instead of having a price on CO2 emissions $(p_{CO2})$, we implement a cap on CO2 emissions as follows:\n",
    "\\begin{align}\n",
    "    \\sum_i v_i\\cdot E_i \\leq \\overline{CO2}. \\tag{4}\n",
    "\\end{align}\n",
    "*Adjust the Lagrange in (3) appropriately and derive the first order conditions again.*"
   ]
  },
  {
   "cell_type": "markdown",
   "id": "5ce3dc95",
   "metadata": {},
   "source": [
    "\\begin{equation}\n",
    "    \\mathbf{L}' = - \\sum_i c_i \\cdot E_i + \\lambda ( \\sum_i E_i - L) + \\sum_i \\bar{\\theta_i} (q_i - E_i) + \\sum_i \\underline{\\theta_i} \\cdot E_i + \\theta^{CO2} (\\overline{CO2} - \\sum_i v_i \\cdot E_i )    \\tag{4a}\n",
    "\\end{equation}\n",
    "\n",
    "The first order conditions for the problem as described are derived through the maximisation of (4a) and given as:\n",
    "\n",
    "\\begin{align}\n",
    "    \\frac{\\delta \\mathbf{L}'}{\\delta E_i} &= - c_i + \\lambda - \\bar{\\theta_i} + \\underline{\\theta_i} - v_i \\cdot \\theta^{CO2} = 0 \\tag{4b} \\\\\n",
    "    \\bar{\\theta_i} ( q_i - E_i ) &= 0; \\qquad \\bar{\\theta_i} \\geq 0; \\qquad q_i - E_i \\geq 0 \\tag{4c} \\\\\n",
    "    \\underline{\\theta_i} E_i &= 0; \\qquad \\underline{\\theta_i} \\geq 0; \\qquad E_i \\geq 0 \\tag{4d} \\\\\n",
    "    \\theta^{CO2} (\\overline{CO2} - \\sum_i v_i \\cdot E_i) &= 0; \\qquad \\theta^{CO2} \\geq 0; \\qquad \\overline{CO2} - \\sum_i v_i \\cdot E_i \\geq 0 \\tag{4e}\n",
    "\\end{align}\n",
    "\n",
    "Here, constraint (4) is incorporated in the original optimisation as described in equations (1) in a normal manner."
   ]
  },
  {
   "cell_type": "markdown",
   "id": "742de6cd-3070-46d6-8558-4166aee92394",
   "metadata": {},
   "source": [
    "### **Q1.6. Interpretation of shadow variable $\\theta^{CO2}$**"
   ]
  },
  {
   "cell_type": "markdown",
   "id": "d1eb5217-28de-4f1d-bcfa-f134e32fddab",
   "metadata": {},
   "source": [
    "In **Q1.4** we used a price on CO2 emissions of 5€. This resulted in roughly 27.2 tonnes of CO2 emissions in optimum. Now, in the emissions cap scenario (**Q1.5**), let $\\theta^{CO2}$ denote the shadow cost of the constraint in (4) and assume that we fix the cap at $\\overline{CO2}=25$ tonnes instead. \n",
    "\n",
    "\n",
    "*Give an interpretation of what $\\theta^{CO2}$ measures. Based on the small data set, what is the value in this model with $\\overline{CO2}=25$?*"
   ]
  },
  {
   "cell_type": "markdown",
   "id": "f479aec8",
   "metadata": {},
   "source": [
    "$\\theta^{CO2}$ measures the savings caused by a unit increase in $\\overline{CO2}$, at equilibrium equivalent to an increase of $\\overline{CO2}$ from 25 to 26 tonnes. This can be shown by deriving the derivative of $\\mathbf{L}$ with respect to $\\overline{CO2}$ as follows:\n",
    "\n",
    "\\begin{equation}\n",
    "    \\frac{\\delta \\mathbf{L}'}{\\delta \\overline{CO2}} = \\theta^{CO2}\n",
    "\\end{equation}\n",
    "\n",
    "This can further be verified by considering equations (4e), which can be interpreted as $\\theta^{CO2}$ being positive only if the cap on CO2 emissions is actually met in optimium and always zero if the cap is not reached and the amount of CO2 emissions that minimize costs lie below the cap. \\\\\n",
    "\n",
    "Based on the small data set, $\\theta^{CO2} = 79.2$ in equilibrium with $\\overline{CO2} = 25$. \n",
    "\n",
    "For the equilibrium and emission cap constraints: $\\sum_i E_i = L = 100$ while $\\sum_i v_i * E_i ≤ 25$ to hold, we produce 60MWh with plant C. Because the cost minimizing production of the remaining 40MWh of electricity with plant B would produce to much CO2-emissions, we have to generate some of the electricity with plant B. Raising the emission cap allows again for more production with plant A which would decrease costs. See the following code for the derivation of $\\theta^{CO2}$"
   ]
  },
  {
   "cell_type": "code",
   "execution_count": 68,
   "id": "dc9d7f50",
   "metadata": {},
   "outputs": [
    {
     "name": "stdout",
     "output_type": "stream",
     "text": [
      "79.24959106133815\n"
     ]
    }
   ],
   "source": [
    "# Deriving θCO2 = 79.2$\n",
    "# E_A + E_B + E_C = 100 (1) and (v_A*E_A) + (v_B*E_B) + (v_C*E_C) ≤ CO2 (2) need to hold\n",
    "# Since v_C = 0 and c_C < c_A < c_B we produce the first q_C = 60MWh with plant C\n",
    "# This then leaves: E_A + E_B = 40 (1) and (v_A*E_A) + (v_B*E_B) ≤ CO2 (2)\n",
    "# Rewriting gives: E_A = (40 - (CO2/v_B))/(1 - (v_A/v_B)) and E_B = (CO2 - (v_A*E_A))/v_B\n",
    "# Inserting values with CO2 = 25\n",
    "\n",
    "E_A_CO2_25 = (40 - (25/db['ME']['B']))/(1 - (db['ME']['A']/db['ME']['B']))\n",
    "E_B_CO2_25 = (25 - (db['ME']['A']*E_A_CO2_25))/db['ME']['B']\n",
    "\n",
    "c_A_CO2_25 = E_A_CO2_25*db['MC']['A']\n",
    "c_B_CO2_25 = E_B_CO2_25*db['MC']['B']\n",
    "\n",
    "# Inserting values with CO2 = 26\n",
    "\n",
    "E_A_CO2_26 = (40 - (26/db['ME']['B']))/(1 - (db['ME']['A']/db['ME']['B']))\n",
    "E_B_CO2_26 = (26 - (db['ME']['A']*E_A_CO2_26))/db['ME']['B']\n",
    "\n",
    "c_A_CO2_26 = E_A_CO2_26*db['MC']['A']\n",
    "c_B_CO2_26 = E_B_CO2_26*db['MC']['B']\n",
    "\n",
    "# Calculating the difference in costs\n",
    "\n",
    "theta_CO2 = (c_A_CO2_25 + c_B_CO2_25) - (c_A_CO2_26 + c_B_CO2_26)"
   ]
  },
  {
   "cell_type": "markdown",
   "id": "236fcf68-545d-4a45-acee-42c5ea470f99",
   "metadata": {
    "tags": []
   },
   "source": [
    "## Q2. Numerical implementation"
   ]
  },
  {
   "cell_type": "markdown",
   "id": "a67ac6c9-64ea-4492-9ef1-cea50126eb34",
   "metadata": {},
   "source": [
    "The algorithm in ```scipy.optimize.linprog``` solves what we will refer to as an \"augmented form\" of the linear program (as opposed to the \"standard form\" that does not feature explicit equality constraints):\n",
    "\n",
    "$$\\begin{align} \n",
    "    &\\min_{x} \\ c^T\\cdot x \\tag{5a}\\\\ \n",
    "    &A_{ub}\\times x \\leq b_{ub} \\tag{5b}\\\\ \n",
    "    &A_{eq}\\times x  = b_{eq} \\tag{5c}\\\\ \n",
    "    &l\\leq x\\leq u, \\tag{5d}\n",
    "\\end{align}$$\n",
    "where: \n",
    "* $x$ is the vector of choice variables of length ($N$).\n",
    "* $c, l, u$ are coefficient vectors of the same length ($N$).\n",
    "* $b_{eq}, b_{ub}$ are coefficient vectors of lengths $N_{eq}, N_{ub}$, \n",
    "* and $A_{eq}, A_{ub}$ are coefficient matrices of sizes $(N_{eq}\\times N)$ and $(N_{ub} \\times N)$ respectively.\n",
    "\n",
    "We will generally refer to the inequality constraints $l\\leq x \\leq u$ as *domain constraints*, whereas the constraints that combine multiple variables as *variational constraints* (1B-1C). \n",
    "\n",
    "At its core, the ```scipy.optimize.linprog``` takes inputs in the form of arrays (e.g. ```np.arrays```), which means that we have to be careful with the ordering of variables and constraints: The $n$'th element in $c$ represents the same element as the $n$'th elements in $l,u$ and the $n$'th column vectors in $A_{ub}, A_{eq}$. Thus, when solving a model with many different types of constraints and variables, the task of constructing suitable vectors / matrices becomes quite cumbersome. In the simple model from **Q1**, however, it is very simple."
   ]
  },
  {
   "cell_type": "markdown",
   "id": "60af1386-c99b-4d08-95a5-7b06cb7dc8d1",
   "metadata": {},
   "source": [
    "### **Q2.1. Set up relevant vectors and matrices for the model in Q1.3. Solve it numerically.**"
   ]
  },
  {
   "cell_type": "markdown",
   "id": "e456c08f-6225-4d58-abc2-dc7d71da660d",
   "metadata": {},
   "source": [
    "*Hint: You need to create relevant components (```c```, ```b_eq```, ```A_eq```, ```l```, ```u```) and then call*\n",
    "\n",
    "```python\n",
    "optimize.linprog(c, A_eq = A_eq, b_eq = b_eq, bounds = np.vstack([l, u]).T)\n",
    "```"
   ]
  },
  {
   "cell_type": "code",
   "execution_count": 112,
   "id": "e3d6c574",
   "metadata": {},
   "outputs": [
    {
     "name": "stdout",
     "output_type": "stream",
     "text": [
      "Optimal generation levels: [40.  0. 60.]\n",
      "Optimal total cost: 1236.2819167208515\n"
     ]
    }
   ],
   "source": [
    "c = np.array(db['SocialMC'])\n",
    "b_eq = np.array([100])\n",
    "A_eq = np.array([[1]*3])\n",
    "l = np.array([0]*3)\n",
    "u = np.array([60]*3)\n",
    "result = optimize.linprog(c, A_eq = A_eq, b_eq = b_eq, bounds = np.vstack([l, u]).T)\n",
    "if result.success:\n",
    "    print(\"Optimal generation levels:\", result.x)\n",
    "    print(\"Optimal total cost:\", result.fun)"
   ]
  },
  {
   "cell_type": "markdown",
   "id": "1ec9926a-4378-4a57-a11b-366715422220",
   "metadata": {},
   "source": [
    "### **Q2.2. Add the emission cap from (4) with $\\overline{CO2} = 25$ to the model and solve.**"
   ]
  },
  {
   "cell_type": "code",
   "execution_count": 119,
   "id": "67dd0eb1",
   "metadata": {},
   "outputs": [
    {
     "name": "stdout",
     "output_type": "stream",
     "text": [
      "Optimal generation levels: [31.90319032  8.09680968 60.        ]\n",
      "Optimal total cost: 1273.0391058234395\n"
     ]
    }
   ],
   "source": [
    "c = np.array(db['TotalMC'])\n",
    "b_eq = np.array([100])\n",
    "A_eq = np.array([[1]*3])\n",
    "b_ub = np.array([25])\n",
    "A_ub = np.array([db['ME']])\n",
    "l = np.array([0]*3)\n",
    "u = np.array([60]*3)\n",
    "result = optimize.linprog(c, A_eq = A_eq, b_eq = b_eq, A_ub = A_ub, b_ub = b_ub, bounds = np.vstack([l, u]).T)\n",
    "if result.success:\n",
    "    print(\"Optimal generation levels:\", result.x)\n",
    "    print(\"Optimal total cost:\", result.fun)"
   ]
  }
 ],
 "metadata": {
  "kernelspec": {
   "display_name": "Python 3 (ipykernel)",
   "language": "python",
   "name": "python3"
  },
  "language_info": {
   "codemirror_mode": {
    "name": "ipython",
    "version": 3
   },
   "file_extension": ".py",
   "mimetype": "text/x-python",
   "name": "python",
   "nbconvert_exporter": "python",
   "pygments_lexer": "ipython3",
   "version": "3.11.3"
  }
 },
 "nbformat": 4,
 "nbformat_minor": 5
}
