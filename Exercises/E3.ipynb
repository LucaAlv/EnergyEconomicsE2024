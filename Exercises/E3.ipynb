{
 "cells": [
  {
   "cell_type": "code",
   "execution_count": 2,
   "id": "d36051f5-553b-4d36-86b4-a56ff41325fe",
   "metadata": {
    "tags": []
   },
   "outputs": [],
   "source": [
    "%run stdPackages.ipynb"
   ]
  },
  {
   "cell_type": "markdown",
   "id": "b814ffb9-05f7-4166-a61c-52bdf1dde3e9",
   "metadata": {
    "tags": []
   },
   "source": [
    "# A Basic Model of the Electricity System"
   ]
  },
  {
   "cell_type": "markdown",
   "id": "aade51e1-61b5-47f6-8600-1bd8f204e418",
   "metadata": {},
   "source": [
    "In this exercise, we'll consider a basic model of the electricity system. In **Q1**, we solve a very simple model using pen and paper methods. In **Q2** we implement a simple numerical version of this, setting up the appropriate structure to solve it using the ```scipy.optimize.linprog``` method."
   ]
  },
  {
   "cell_type": "markdown",
   "id": "91c67b53-9466-4dbf-9b6e-44b52f2f5d45",
   "metadata": {
    "tags": []
   },
   "source": [
    "## Q1. Characterize Model"
   ]
  },
  {
   "cell_type": "markdown",
   "id": "22484def-a435-4d74-afd7-6b6e6d15f737",
   "metadata": {},
   "source": [
    "Consider a stylized, static model of the electricity wholesale market where a portfolio of different dispatchable generators (indexed by $i$) competes to serve a fixed load $L$ MWh. Let $E_i$ denote the generated electricity by generator $i$ measured in MWh and $q_i$ the installed hourly generating capacity in MW. The generators use a combination of primary energy carriers (indexed by $j$) and an aggregate of other inputs ($oth$). Let $\\mu_j^i$ denote the input share of energy carrier $j$ for generator $i$ -- i.e. MWh input of energy carrier $j$ per MWh electricity output. Let $p_j^f$ denote the price of carrier $j$ measured in €/MWh. The use of primary carriers ($j$) is tied to \\CO2 emissions in fixed ratios."
   ]
  },
  {
   "cell_type": "markdown",
   "id": "9fb07b33-552f-42cf-b75c-2a6db911305c",
   "metadata": {},
   "source": [
    "### **Q1.1: Briefly explain the optimization problem in equations (1).**\n",
    "$\\begin{align}\n",
    "    \\min \\ \\sum_i& c_i E_i \\tag{1a} \\\\\n",
    "    \\text{subject to }L&=\\sum_i E_i \\tag{1b} \\\\ \n",
    "    c_i &= c_i^{oth}+\\sum_j\\mu_j^i p_j^f, \\qquad \\forall i \\tag{1c}\\\\ \n",
    "    E_i &\\in[0, q_i], \\qquad \\forall i. \\tag{1d}\n",
    "\\end{align}$"
   ]
  },
  {
   "cell_type": "markdown",
   "id": "d4bbc376",
   "metadata": {},
   "source": [
    "1a, minimizing the costs of energy production\n",
    "1b, total demand has to equal total supply (equilibrium constraint)\n",
    "1c, marginal costs given by marginal costs other than material costs + marginal material costs of producing one mwh of dndfyunit o co2 \n",
    "1d, Generator i can produce between 0 and a maximum $q_i$ amount of energy "
   ]
  },
  {
   "cell_type": "markdown",
   "id": "7b4996db-0080-4d77-a19d-edabbbf2fcdf",
   "metadata": {},
   "source": [
    "### **Q1.2:**\n",
    "\n",
    "*Let $\\phi_j$ denote the emission intensity of energy carrier $j$ measured in ton CO2/MWh. Assume that we have an estimate of the social cost of carbon of $p_{CO2}$ €/ton CO2.*\n",
    "\n",
    "\n",
    "*Briefly explain the problem in equations (2). What does the new parameter $v_i$ measure?*\n",
    "\\begin{align}\n",
    "    \\min \\ \\sum_i& \\left(c_i+v_i\\cdot p_{CO2}\\right) E_i \\tag{2a}\\\\\n",
    "    \\text{subject to }L&=\\sum_i E_i \\tag{2b} \\\\ \n",
    "    v_i &= \\sum_j\\mu_j^i\\phi_j \\tag{2c} \\\\\n",
    "    E_i &\\in[0, q_i], \\qquad \\forall i. \\tag{2d}\n",
    "\\end{align}"
   ]
  },
  {
   "cell_type": "markdown",
   "id": "64fb0534",
   "metadata": {},
   "source": [
    "2a, minimizing the costs of energy production that now include costs from co2 emissions\n",
    "2b, equilibrium constraint\n",
    "2c, marginal costs given by marginal costs other than material costs + sum of the input share of energy carrier j for generator i in MWh * price of carrier j per MWh\n",
    "1d, The amount of energy produced by generator i is between 0 and its maximum output "
   ]
  },
  {
   "cell_type": "markdown",
   "id": "75363d27-cda6-4255-a606-c75a9d1559d7",
   "metadata": {},
   "source": [
    "### **Q1.3**\n",
    "*Derive the first order conditions for the problem in (2b). Give a brief interpretation.*"
   ]
  },
  {
   "cell_type": "markdown",
   "id": "1069359c",
   "metadata": {},
   "source": [
    "L = $\\sum(c_i+v_ip_{co2}E_i)+$"
   ]
  },
  {
   "cell_type": "markdown",
   "id": "6e744890-7f6c-4704-a5f3-8b13a3459449",
   "metadata": {},
   "source": [
    "### **Q1.4. Merit order curve and solution**"
   ]
  },
  {
   "cell_type": "markdown",
   "id": "c775bf22-de84-4e0a-b3ad-38bb067e0a06",
   "metadata": {},
   "source": [
    "The file *PS3\\_Q1_tables.xlsx* includes a small dataset with three generators. Tables 1-2 translates the names used in the data to the symbols used in the model above. \n",
    "\n",
    "| **Table 1: Symbols Dictionary** | |\n",
    "| --- | --- |\n",
    "| *Name in excel data* | *Model Symbol* |\n",
    "| FuelMix | $\\mu_j^i$ |\n",
    "| EmissionIntensity | $\\phi_j$ |\n",
    "|FuelPrice | $p_j^f$ |\n",
    "| EmissionTax | $p_{CO2}$ |\n",
    "| Load | $L$ |\n",
    "| GeneratingCapacity | $q_i$ |\n",
    "| OtherMC | $c_i^{oth}$ |\n",
    "\n",
    "| **Table 2: Index Dictionary** | |\n",
    "| --- | --- |\n",
    "| *Name in excel data* | *Model Index* |\n",
    "| BFt | $j$ |\n",
    "| id | $i$ |"
   ]
  },
  {
   "cell_type": "markdown",
   "id": "f6819bb7-73c4-4bf9-8f1c-bb459c37dc28",
   "metadata": {},
   "source": [
    "*The following uses the package ```pyDbs``` to load and arrange the data in a simple key,value like database. It has a few methods that reads in symbols from excel and add them as pandas series with the appropriate pandas indices. This is what we use here to read in the data:*"
   ]
  },
  {
   "cell_type": "code",
   "execution_count": 12,
   "id": "bf07cbcb-5d2c-4a1b-9fa8-18baf4113310",
   "metadata": {
    "tags": []
   },
   "outputs": [],
   "source": [
    "import pyDbs\n",
    "db = pyDbs.read.dbFromWB(os.path.join(d['data'], 'PS3_Q1.xlsx'),\n",
    "                        {'variables': ['Fundamentals','Load','Generator'],\n",
    "                         'variable2D': ['FuelMix'],\n",
    "                         'maps': ['GeneratorCategories']})\n",
    "pyDbs.readSets(db) # this method adds indices from the declared symbols to the database.\n",
    "\n"
   ]
  },
  {
   "cell_type": "markdown",
   "id": "75dd94a4-cf50-401a-ab03-2f329e0b4aa4",
   "metadata": {},
   "source": [
    "*This database stores symbols in ```self.symbols```; you can get the symbols using simple 'slicing' syntax, e.g. the index for plants:*"
   ]
  },
  {
   "cell_type": "code",
   "execution_count": 163,
   "id": "1ec41801-414a-40d5-9e48-454492c7bb2a",
   "metadata": {
    "tags": []
   },
   "outputs": [
    {
     "data": {
      "image/png": "[encoded data removed]",
      "text/plain": [
       "<Figure size 800x550 with 1 Axes>"
      ]
     },
     "metadata": {},
     "output_type": "display_data"
    }
   ],
   "source": [
    "gj = pd.Index(np.arange(1,181,1))\n",
    "p_c = [2*db['FuelPrice']['Coal']+(db['EmissionIntensity']['Coal']['CO2']*db['EmissionTax']['CO2'])+db['OtherMC']['A']]*db['GeneratingCapacity']['A']\n",
    "p_g = [2*db['FuelPrice']['Natural gas']+(db['EmissionIntensity']['Natural gas']['CO2']*db['EmissionTax']['CO2'])+db['OtherMC']['B']]*db['GeneratingCapacity']['B']\n",
    "p_w = [0+db['OtherMC']['C']]*db['GeneratingCapacity']['C']\n",
    "E_total = pd.Series(p_w + p_c + p_g, index = gj, name = 'E')\n",
    "E_total.plot()\n",
    "plt.axvline(100, color='g')\n",
    "plt.annotate(\n",
    "    'Wind',   # The description text\n",
    "    xy=(30, 5),  # The point to annotate\n",
    "    xytext=(30, 5 + 0.5),  # Position of the text (above the point)\n",
    "    fontsize=12,\n",
    "    ha='center'  # Horizontal alignment of text\n",
    ")\n",
    "plt.annotate(\n",
    "    'Coal',   # The description text\n",
    "    xy=(90, 22),  # The point to annotate\n",
    "    xytext=(90, 22 + 0.5),  # Position of the text (above the point)\n",
    "    fontsize=12,\n",
    "    ha='center'  # Horizontal alignment of text\n",
    ")\n",
    "plt.annotate(\n",
    "    'Gas',   # The description text\n",
    "    xy=(150, 42.5),  # The point to annotate\n",
    "    xytext=(150, 42.5 + 0.5),  # Position of the text (above the point)\n",
    "    fontsize=12,\n",
    "    ha='center'  # Horizontal alignment of text\n",
    ")\n",
    "plt.xlabel('MWh')\n",
    "plt.ylabel('€/MWh')\n",
    "plt.title('Merit order curve with three plants and fixed load')\n",
    "plt.legend()\n",
    "plt.grid(True)\n",
    "plt.show()"
   ]
  },
  {
   "cell_type": "markdown",
   "id": "73d918f3-c001-4489-9b3e-b8673d33ffd7",
   "metadata": {},
   "source": [
    "*Based on this small dataset, draw the merit-order curve and compute the solution for $E_i$ and $\\lambda$.*"
   ]
  },
  {
   "cell_type": "markdown",
   "id": "0c1c7d68-6883-4655-976a-07eb45e6a235",
   "metadata": {},
   "source": [
    "### **Q1.5. A Cap on Emissions**"
   ]
  },
  {
   "cell_type": "markdown",
   "id": "67c0ec07-bdb5-4358-ba0e-ba9f32f7ccc8",
   "metadata": {},
   "source": [
    "Assume that, instead of having a price on CO2 emissions $(p_{CO2})$, we implement a cap on CO2 emissions as follows:\n",
    "\\begin{align}\n",
    "    \\sum_i v_i\\cdot E_i \\leq \\overline{CO2}. \\tag{4}\n",
    "\\end{align}\n",
    "*Adjust the Lagrange in (3) appropriately and derive the first order conditions again.*"
   ]
  },
  {
   "cell_type": "markdown",
   "id": "742de6cd-3070-46d6-8558-4166aee92394",
   "metadata": {},
   "source": [
    "### **Q1.6. Interpretation of shadow variable $\\theta^{CO2}$**"
   ]
  },
  {
   "cell_type": "markdown",
   "id": "d1eb5217-28de-4f1d-bcfa-f134e32fddab",
   "metadata": {},
   "source": [
    "In **Q1.4** we used a price on\\CO2 emissions of 5€. This resulted in roughly 27.2 tonnes of CO2 emissions in optimum. Now, in the emissions cap scenario (**Q1.5**), let $\\theta^{CO2}$ denote the shadow cost of the constraint in (4) and assume that we fix the cap at $\\overline{CO2}=$25 tonnes instead. \n",
    "\n",
    "\n",
    "*Give an interpretation of what $\\theta^{CO2}$ measures. Based on the small data set, what is the value in this model with $\\overline{CO2}=$25?*"
   ]
  },
  {
   "cell_type": "markdown",
   "id": "236fcf68-545d-4a45-acee-42c5ea470f99",
   "metadata": {
    "tags": []
   },
   "source": [
    "## Q2. Numerical implementation"
   ]
  },
  {
   "cell_type": "markdown",
   "id": "a67ac6c9-64ea-4492-9ef1-cea50126eb34",
   "metadata": {},
   "source": [
    "The algorithm in ```scipy.optimize.linprog``` solves what we will refer to as an \"augmented form\" of the linear program (as opposed to the \"standard form\" that does not feature explicit equality constraints):\n",
    "\n",
    "$$\\begin{align} \n",
    "    &\\min_{x} \\ c^T\\cdot x \\tag{5a}\\\\ \n",
    "    &A_{ub}\\times x \\leq b_{ub} \\tag{5b}\\\\ \n",
    "    &A_{eq}\\times x  = b_{eq} \\tag{5c}\\\\ \n",
    "    &l\\leq x\\leq u, \\tag{5d}\n",
    "\\end{align}$$\n",
    "where: \n",
    "* $x$ is the vector of choice variables of length ($N$).\n",
    "* $c, l, u$ are coefficient vectors of the same length ($N$).\n",
    "* $b_{eq}, b_{ub}$ are coefficient vectors of lengths $N_{eq}, N_{ub}$, \n",
    "* and $A_{eq}, A_{ub}$ are coefficient matrices of sizes $(N_{eq}\\times N)$ and $(N_{ub} \\times N)$ respectively.\n",
    "\n",
    "We will generally refer to the inequality constraints $l\\leq x \\leq u$ as *domain constraints*, whereas the constraints that combine multiple variables as *variational constraints* (1B-1C). \n",
    "\n",
    "At its core, the ```scipy.optimize.linprog``` takes inputs in the form of arrays (e.g. ```np.arrays```), which means that we have to be careful with the ordering of variables and constraints: The $n$'th element in $c$ represents the same element as the $n$'th elements in $l,u$ and the $n$'th column vectors in $A_{ub}, A_{eq}$. Thus, when solving a model with many different types of constraints and variables, the task of constructing suitable vectors / matrices becomes quite cumbersome. In the simple model from **Q1**, however, it is very simple."
   ]
  },
  {
   "cell_type": "markdown",
   "id": "60af1386-c99b-4d08-95a5-7b06cb7dc8d1",
   "metadata": {},
   "source": [
    "### **Q2.1. Set up relevant vectors and matrices for the model in Q1.3. Solve it numerically.**"
   ]
  },
  {
   "cell_type": "markdown",
   "id": "e456c08f-6225-4d58-abc2-dc7d71da660d",
   "metadata": {},
   "source": [
    "*Hint: You need to create relevant components (```c```, ```b_eq```, ```A_eq```, ```l```, ```u```) and then call*\n",
    "\n",
    "```python\n",
    "optimize.linprog(c, A_eq = A_eq, b_eq = b_eq, bounds = np.vstack([l, u]).T)\n",
    "```"
   ]
  },
  {
   "cell_type": "markdown",
   "id": "1ec9926a-4378-4a57-a11b-366715422220",
   "metadata": {},
   "source": [
    "### **Q2.2. Add the emission cap from (4) with $\\overline{CO2} = 25$ to the model and solve.**"
   ]
  }
 ],
 "metadata": {
  "kernelspec": {
   "display_name": "Python 3 (ipykernel)",
   "language": "python",
   "name": "python3"
  },
  "language_info": {
   "codemirror_mode": {
    "name": "ipython",
    "version": 3
   },
   "file_extension": ".py",
   "mimetype": "text/x-python",
   "name": "python",
   "nbconvert_exporter": "python",
   "pygments_lexer": "ipython3",
   "version": "3.11.3"
  }
 },
 "nbformat": 4,
 "nbformat_minor": 5
}
